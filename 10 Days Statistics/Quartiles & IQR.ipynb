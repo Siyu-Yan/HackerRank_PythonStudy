{
 "cells": [
  {
   "cell_type": "code",
   "execution_count": 1,
   "metadata": {},
   "outputs": [],
   "source": [
    "import numpy as np\n",
    "import pandas as pd"
   ]
  },
  {
   "cell_type": "markdown",
   "metadata": {},
   "source": [
    "#  Quartiles"
   ]
  },
  {
   "cell_type": "code",
   "execution_count": 2,
   "metadata": {},
   "outputs": [],
   "source": [
    "n = '9'\n",
    "data = '3 7 8 5 12 14 21 13 18'"
   ]
  },
  {
   "cell_type": "markdown",
   "metadata": {},
   "source": [
    "## with customized function"
   ]
  },
  {
   "cell_type": "code",
   "execution_count": 3,
   "metadata": {},
   "outputs": [],
   "source": [
    "n = int(n)\n",
    "arr = list(map(int,data.split()))\n",
    "#arr.sort() # will change original order"
   ]
  },
  {
   "cell_type": "code",
   "execution_count": 4,
   "metadata": {},
   "outputs": [
    {
     "data": {
      "text/plain": [
       "[3, 7, 8, 5, 12, 14, 21, 13, 18]"
      ]
     },
     "execution_count": 4,
     "metadata": {},
     "output_type": "execute_result"
    }
   ],
   "source": [
    "arr"
   ]
  },
  {
   "cell_type": "code",
   "execution_count": 5,
   "metadata": {},
   "outputs": [
    {
     "data": {
      "text/plain": [
       "[3, 5, 7, 8, 12, 13, 14, 18, 21]"
      ]
     },
     "execution_count": 5,
     "metadata": {},
     "output_type": "execute_result"
    }
   ],
   "source": [
    "sorted(arr) # only applied on current line, not change original order"
   ]
  },
  {
   "cell_type": "code",
   "execution_count": 6,
   "metadata": {},
   "outputs": [
    {
     "data": {
      "text/plain": [
       "[3, 7, 8, 5, 12, 14, 21, 13, 18]"
      ]
     },
     "execution_count": 6,
     "metadata": {},
     "output_type": "execute_result"
    }
   ],
   "source": [
    "arr"
   ]
  },
  {
   "cell_type": "code",
   "execution_count": 7,
   "metadata": {},
   "outputs": [],
   "source": [
    "def median_f(x):\n",
    "    n = len(x)\n",
    "    x = sorted(x)\n",
    "    if n %2 == 0:\n",
    "        a = x[int(n/2)]\n",
    "        b = x[int(n/2)-1]\n",
    "        return (a + b) /2\n",
    "    else:\n",
    "        return x[int((n+1)/2)]\n",
    "    \n",
    "def quartiles(arr):\n",
    "    # Write your code here\n",
    "    if n %2 == 0:\n",
    "        m = int(n/2)\n",
    "        q1 = median_f(arr[:m])\n",
    "        q2 = (arr[m-1]+arr[m])/2\n",
    "        q3 = median_f(arr[m:])\n",
    "    else:\n",
    "        m = int((n-1)/2)\n",
    "        q1 = median_f(arr[:m])\n",
    "        q2 = arr[m]\n",
    "        q3 = median_f(arr[m+1:])\n",
    "    print(int(q1))\n",
    "    print(int(q2))\n",
    "    print(int(q3))\n",
    "    "
   ]
  },
  {
   "cell_type": "code",
   "execution_count": 8,
   "metadata": {},
   "outputs": [
    {
     "name": "stdout",
     "output_type": "stream",
     "text": [
      "6\n",
      "12\n",
      "16\n"
     ]
    }
   ],
   "source": [
    "quartiles(arr)"
   ]
  },
  {
   "cell_type": "markdown",
   "metadata": {},
   "source": [
    "## with statistics package"
   ]
  },
  {
   "cell_type": "code",
   "execution_count": 9,
   "metadata": {},
   "outputs": [],
   "source": [
    "from statistics import median\n",
    "def quartiles(arr):\n",
    "    # Write your code here\n",
    "    m = int(n/2)\n",
    "    L = arr[:m]\n",
    "    q1 = int(median(L))\n",
    "    if n %2 == 0:\n",
    "        q2 = (arr[m-1]+arr[m])/2\n",
    "        U = arr[m:]\n",
    "    else:\n",
    "        q2 = arr[m]\n",
    "        U=arr[m+1:]\n",
    "    q3 = int(median(U)) # function return 1 decimal\n",
    "    \n",
    "    return q1,q2,q3"
   ]
  },
  {
   "cell_type": "code",
   "execution_count": 10,
   "metadata": {},
   "outputs": [
    {
     "data": {
      "text/plain": [
       "(6, 12, 16)"
      ]
     },
     "execution_count": 10,
     "metadata": {},
     "output_type": "execute_result"
    }
   ],
   "source": [
    "quartiles(arr)"
   ]
  },
  {
   "cell_type": "markdown",
   "metadata": {},
   "source": [
    "#  Interquartile Range"
   ]
  },
  {
   "cell_type": "code",
   "execution_count": 11,
   "metadata": {},
   "outputs": [],
   "source": [
    "l1 = '6' \n",
    "l2 = '6 12 8 10 20 16'\n",
    "l3 = '5 4 3 2 1 5' "
   ]
  },
  {
   "cell_type": "code",
   "execution_count": 12,
   "metadata": {},
   "outputs": [],
   "source": [
    "n =int(l1)\n",
    "val= list(map(int, l2.split()))\n",
    "freq = list(map(int, l3.split())) "
   ]
  },
  {
   "cell_type": "code",
   "execution_count": 13,
   "metadata": {},
   "outputs": [
    {
     "data": {
      "text/plain": [
       "[]"
      ]
     },
     "execution_count": 13,
     "metadata": {},
     "output_type": "execute_result"
    }
   ],
   "source": [
    "s = []\n",
    "s"
   ]
  },
  {
   "cell_type": "code",
   "execution_count": 14,
   "metadata": {},
   "outputs": [
    {
     "data": {
      "text/plain": [
       "[[6, 6, 6, 6, 6],\n",
       " [12, 12, 12, 12],\n",
       " [8, 8, 8],\n",
       " [10, 10],\n",
       " [20],\n",
       " [16, 16, 16, 16, 16]]"
      ]
     },
     "execution_count": 14,
     "metadata": {},
     "output_type": "execute_result"
    }
   ],
   "source": [
    " [[val[i]]*freq[i]  for i in range(n)]"
   ]
  },
  {
   "cell_type": "code",
   "execution_count": 15,
   "metadata": {},
   "outputs": [
    {
     "name": "stdout",
     "output_type": "stream",
     "text": [
      "0 [6, 6, 6, 6, 6]\n",
      "1 [12, 12, 12, 12]\n",
      "2 [8, 8, 8]\n",
      "3 [10, 10]\n",
      "4 [20]\n",
      "5 [16, 16, 16, 16, 16]\n"
     ]
    }
   ],
   "source": [
    "for i in range(n):\n",
    "    print(i,[val[i]]*freq[i])\n",
    "    s +=[val[i]]*freq[i]"
   ]
  },
  {
   "cell_type": "code",
   "execution_count": 16,
   "metadata": {},
   "outputs": [
    {
     "ename": "SyntaxError",
     "evalue": "invalid syntax (<ipython-input-16-e7fc1c3f72c8>, line 1)",
     "output_type": "error",
     "traceback": [
      "\u001b[1;36m  File \u001b[1;32m\"<ipython-input-16-e7fc1c3f72c8>\"\u001b[1;36m, line \u001b[1;32m1\u001b[0m\n\u001b[1;33m    (s +=[val[i]]*freq[i] for i in range(n))\u001b[0m\n\u001b[1;37m        ^\u001b[0m\n\u001b[1;31mSyntaxError\u001b[0m\u001b[1;31m:\u001b[0m invalid syntax\n"
     ]
    }
   ],
   "source": [
    "(s +=[val[i]]*freq[i] for i in range(n))"
   ]
  },
  {
   "cell_type": "code",
   "execution_count": 17,
   "metadata": {},
   "outputs": [],
   "source": [
    "s.sort()"
   ]
  },
  {
   "cell_type": "code",
   "execution_count": 18,
   "metadata": {},
   "outputs": [],
   "source": [
    "def iqr(s):\n",
    "    m = int(len(s)/2)\n",
    "    l = s[:m]\n",
    "    if m %2 == 0:\n",
    "        r = s[m:]\n",
    "    else:\n",
    "        r = s[m+1:]\n",
    "    q1 = median(l)\n",
    "    q3 = median(r)\n",
    "    iqr = q3 -q1\n",
    "    return iqr"
   ]
  },
  {
   "cell_type": "code",
   "execution_count": 19,
   "metadata": {},
   "outputs": [
    {
     "data": {
      "text/plain": [
       "9.0"
      ]
     },
     "execution_count": 19,
     "metadata": {},
     "output_type": "execute_result"
    }
   ],
   "source": [
    "iqr(s)"
   ]
  },
  {
   "cell_type": "code",
   "execution_count": 20,
   "metadata": {},
   "outputs": [],
   "source": [
    "# other way to extend list by two lists"
   ]
  },
  {
   "cell_type": "code",
   "execution_count": 21,
   "metadata": {},
   "outputs": [],
   "source": [
    "lst = []\n",
    "for x,f in zip(val,freq):\n",
    "    while f:\n",
    "        lst.append(x)\n",
    "        f=f-1"
   ]
  },
  {
   "cell_type": "code",
   "execution_count": 22,
   "metadata": {},
   "outputs": [
    {
     "data": {
      "text/plain": [
       "[6, 6, 6, 6, 6, 12, 12, 12, 12, 8, 8, 8, 10, 10, 20, 16, 16, 16, 16, 16]"
      ]
     },
     "execution_count": 22,
     "metadata": {},
     "output_type": "execute_result"
    }
   ],
   "source": [
    "lst"
   ]
  },
  {
   "cell_type": "code",
   "execution_count": 23,
   "metadata": {},
   "outputs": [],
   "source": [
    "def interQuartile(values, freqs):\n",
    "    # Print your answer to 1 decimal place within this function\n",
    "    s = []\n",
    "    for v, f in zip(val, freq):\n",
    "        while f: \n",
    "            s.append(v)\n",
    "            f =f-1\n",
    "    s.sort()        \n",
    "    m = int(len(s)/2)\n",
    "    l = s[:m]\n",
    "    if len(s) %2 ==0:\n",
    "        r = s[m:]\n",
    "    else:\n",
    "        r = s[m+1:]\n",
    "    q1 = median(l)\n",
    "    q3 = median(r)\n",
    "    iqr = round(float(q3-q1),1) # be carefully when we look at the expected result and the orginal data type\n",
    "    \n",
    "    return iqr"
   ]
  },
  {
   "cell_type": "code",
   "execution_count": 24,
   "metadata": {},
   "outputs": [
    {
     "data": {
      "text/plain": [
       "9.0"
      ]
     },
     "execution_count": 24,
     "metadata": {},
     "output_type": "execute_result"
    }
   ],
   "source": [
    "interQuartile(val, freq)"
   ]
  },
  {
   "cell_type": "code",
   "execution_count": null,
   "metadata": {},
   "outputs": [],
   "source": []
  }
 ],
 "metadata": {
  "kernelspec": {
   "display_name": "Python 3",
   "language": "python",
   "name": "python3"
  },
  "language_info": {
   "codemirror_mode": {
    "name": "ipython",
    "version": 3
   },
   "file_extension": ".py",
   "mimetype": "text/x-python",
   "name": "python",
   "nbconvert_exporter": "python",
   "pygments_lexer": "ipython3",
   "version": "3.7.3"
  },
  "toc": {
   "base_numbering": 1,
   "nav_menu": {},
   "number_sections": true,
   "sideBar": true,
   "skip_h1_title": false,
   "title_cell": "Table of Contents",
   "title_sidebar": "Contents",
   "toc_cell": false,
   "toc_position": {},
   "toc_section_display": true,
   "toc_window_display": false
  }
 },
 "nbformat": 4,
 "nbformat_minor": 2
}
