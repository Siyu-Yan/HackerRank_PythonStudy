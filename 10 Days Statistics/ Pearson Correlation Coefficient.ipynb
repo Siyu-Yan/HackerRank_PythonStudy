{
 "cells": [
  {
   "cell_type": "code",
   "execution_count": 1,
   "metadata": {},
   "outputs": [],
   "source": [
    "n = 10\n",
    "l1 = '10 9.8 8 7.8 7.7 7 6 5 4 2' \n",
    "l2 = '200 44 32 24 22 17 15 12 8 4'"
   ]
  },
  {
   "cell_type": "code",
   "execution_count": 2,
   "metadata": {},
   "outputs": [],
   "source": [
    "\n",
    "x = list(map(float,l1.split()))\n",
    "y = list(map(float,l2.split()))"
   ]
  },
  {
   "cell_type": "code",
   "execution_count": 3,
   "metadata": {},
   "outputs": [],
   "source": [
    "def cov(x,y):\n",
    "    x_mean = sum(x)/n\n",
    "    y_mean = sum(y)/n\n",
    "    total = 0\n",
    "    for a, b in zip(x,y):\n",
    "        total += (a - x_mean)*(b-y_mean) \n",
    "    return total\n",
    "\n",
    "def sd(x):\n",
    "    mean = sum(x)/n\n",
    "    s = 0\n",
    "    for i in range(n):\n",
    "        s += (x[i]-mean)**2\n",
    "    return (s/n)**0.5\n",
    "    \n",
    "def corr(x,y):\n",
    "    return cov(x,y)/(n*sd(x)*sd(y))"
   ]
  },
  {
   "cell_type": "code",
   "execution_count": 4,
   "metadata": {},
   "outputs": [
    {
     "data": {
      "text/plain": [
       "0.6124721937208479"
      ]
     },
     "execution_count": 4,
     "metadata": {},
     "output_type": "execute_result"
    }
   ],
   "source": [
    "corr(x,y)"
   ]
  },
  {
   "cell_type": "code",
   "execution_count": null,
   "metadata": {},
   "outputs": [],
   "source": []
  }
 ],
 "metadata": {
  "kernelspec": {
   "display_name": "Python 3",
   "language": "python",
   "name": "python3"
  },
  "language_info": {
   "codemirror_mode": {
    "name": "ipython",
    "version": 3
   },
   "file_extension": ".py",
   "mimetype": "text/x-python",
   "name": "python",
   "nbconvert_exporter": "python",
   "pygments_lexer": "ipython3",
   "version": "3.7.3"
  },
  "toc": {
   "base_numbering": 1,
   "nav_menu": {},
   "number_sections": true,
   "sideBar": true,
   "skip_h1_title": false,
   "title_cell": "Table of Contents",
   "title_sidebar": "Contents",
   "toc_cell": false,
   "toc_position": {},
   "toc_section_display": true,
   "toc_window_display": false
  }
 },
 "nbformat": 4,
 "nbformat_minor": 2
}
