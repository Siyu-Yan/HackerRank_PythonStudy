{
 "cells": [
  {
   "cell_type": "code",
   "execution_count": 57,
   "metadata": {},
   "outputs": [],
   "source": [
    "import numpy as np\n",
    "import pandas as pd"
   ]
  },
  {
   "cell_type": "markdown",
   "metadata": {
    "heading_collapsed": true
   },
   "source": [
    "# mean, median, mode"
   ]
  },
  {
   "cell_type": "code",
   "execution_count": 336,
   "metadata": {
    "hidden": true
   },
   "outputs": [],
   "source": [
    "input1 = '10'\n",
    "input2 = '64630 11735 14216 99233 14470 4978 4978 38120 51135 67060'"
   ]
  },
  {
   "cell_type": "code",
   "execution_count": 337,
   "metadata": {
    "hidden": true
   },
   "outputs": [],
   "source": [
    "n = int(input1)\n",
    "lst = input2"
   ]
  },
  {
   "cell_type": "code",
   "execution_count": 340,
   "metadata": {
    "hidden": true
   },
   "outputs": [
    {
     "data": {
      "text/plain": [
       "['64630',\n",
       " '11735',\n",
       " '14216',\n",
       " '99233',\n",
       " '14470',\n",
       " '4978',\n",
       " '4978',\n",
       " '38120',\n",
       " '51135',\n",
       " '67060']"
      ]
     },
     "execution_count": 340,
     "metadata": {},
     "output_type": "execute_result"
    }
   ],
   "source": [
    "lst.split()"
   ]
  },
  {
   "cell_type": "code",
   "execution_count": 341,
   "metadata": {
    "hidden": true
   },
   "outputs": [],
   "source": [
    "lst = list(map(int, lst.split()))"
   ]
  },
  {
   "cell_type": "code",
   "execution_count": 343,
   "metadata": {
    "hidden": true
   },
   "outputs": [],
   "source": [
    "lst.sort()"
   ]
  },
  {
   "cell_type": "code",
   "execution_count": 345,
   "metadata": {
    "hidden": true
   },
   "outputs": [],
   "source": [
    "y = dict((i, lst.count(i)) for i in set(lst))"
   ]
  },
  {
   "cell_type": "code",
   "execution_count": 346,
   "metadata": {
    "hidden": true
   },
   "outputs": [
    {
     "data": {
      "text/plain": [
       "{99233: 1,\n",
       " 14470: 1,\n",
       " 14216: 1,\n",
       " 38120: 1,\n",
       " 4978: 2,\n",
       " 67060: 1,\n",
       " 64630: 1,\n",
       " 11735: 1,\n",
       " 51135: 1}"
      ]
     },
     "execution_count": 346,
     "metadata": {},
     "output_type": "execute_result"
    }
   ],
   "source": [
    "y"
   ]
  },
  {
   "cell_type": "code",
   "execution_count": 347,
   "metadata": {
    "hidden": true
   },
   "outputs": [
    {
     "data": {
      "text/plain": [
       "[99233, 67060, 64630, 51135, 38120, 14470, 14216, 11735, 4978]"
      ]
     },
     "execution_count": 347,
     "metadata": {},
     "output_type": "execute_result"
    }
   ],
   "source": [
    "sorted(y,reverse=True)"
   ]
  },
  {
   "cell_type": "code",
   "execution_count": 348,
   "metadata": {
    "hidden": true
   },
   "outputs": [],
   "source": [
    "y = sorted(y.items(), key = lambda x :( -x[-1], x[0]))"
   ]
  },
  {
   "cell_type": "code",
   "execution_count": 349,
   "metadata": {
    "hidden": true
   },
   "outputs": [
    {
     "data": {
      "text/plain": [
       "[(4978, 2),\n",
       " (11735, 1),\n",
       " (14216, 1),\n",
       " (14470, 1),\n",
       " (38120, 1),\n",
       " (51135, 1),\n",
       " (64630, 1),\n",
       " (67060, 1),\n",
       " (99233, 1)]"
      ]
     },
     "execution_count": 349,
     "metadata": {},
     "output_type": "execute_result"
    }
   ],
   "source": [
    "y"
   ]
  },
  {
   "cell_type": "code",
   "execution_count": 350,
   "metadata": {
    "hidden": true
   },
   "outputs": [
    {
     "data": {
      "text/plain": [
       "(4978, 2)"
      ]
     },
     "execution_count": 350,
     "metadata": {},
     "output_type": "execute_result"
    }
   ],
   "source": [
    "y[0]"
   ]
  },
  {
   "cell_type": "code",
   "execution_count": 351,
   "metadata": {
    "hidden": true
   },
   "outputs": [
    {
     "data": {
      "text/plain": [
       "4978"
      ]
     },
     "execution_count": 351,
     "metadata": {},
     "output_type": "execute_result"
    }
   ],
   "source": [
    "next(iter(y)) [0]"
   ]
  },
  {
   "cell_type": "markdown",
   "metadata": {
    "hidden": true
   },
   "source": [
    "## without sort and improve running time"
   ]
  },
  {
   "cell_type": "code",
   "execution_count": 352,
   "metadata": {
    "hidden": true
   },
   "outputs": [],
   "source": [
    "def mean_f(x):\n",
    "    total = 0\n",
    "    y = dict((i, lst.count(i)) for i in set(x))\n",
    "    for k, v in y.items():\n",
    "        total = total + k*v\n",
    "    return total/n\n",
    "\n",
    "def median_f(x):\n",
    "    n = len(x)\n",
    "    x = sorted(x)\n",
    "    if n %2 == 0:\n",
    "        a = x[int(n/2)]\n",
    "        b = x[int(n/2)-1]\n",
    "        return (a + b) /2\n",
    "    else:\n",
    "        return x[int((n+1)/2)]\n",
    "    \n",
    "def mode_f(x):\n",
    "    mode = 0\n",
    "    req = 0\n",
    "    y = dict((i, lst.count(i)) for i in set(x))\n",
    "    for i, val in y.items():\n",
    "        if val > req:\n",
    "            mode = i\n",
    "            req = val\n",
    "        elif val == req and i < mode:\n",
    "            mode = i\n",
    "    return mode"
   ]
  },
  {
   "cell_type": "code",
   "execution_count": 353,
   "metadata": {
    "hidden": true
   },
   "outputs": [
    {
     "name": "stdout",
     "output_type": "stream",
     "text": [
      "37055.5\n",
      "26295.0\n",
      "4978\n"
     ]
    }
   ],
   "source": [
    "print(round(mean_f(lst),1))\n",
    "print(round(median_f(lst),1))\n",
    "print(round(mode_f(lst),1))"
   ]
  },
  {
   "cell_type": "markdown",
   "metadata": {
    "hidden": true
   },
   "source": [
    "## using sort"
   ]
  },
  {
   "cell_type": "code",
   "execution_count": 354,
   "metadata": {
    "hidden": true
   },
   "outputs": [],
   "source": [
    "def mean_f(x):\n",
    "    return sum(x)/len(x)\n",
    "\n",
    "def median_f(x):\n",
    "    n = len(x)\n",
    "    x = sorted(x)\n",
    "    if n %2 == 0:\n",
    "        a = x[int(n/2)]\n",
    "        b = x[int(n/2)-1]\n",
    "        return (a + b) /2\n",
    "    else:\n",
    "        return x[int((n+1)/2)]\n",
    "    \n",
    "def mode_f(x):\n",
    "    y = dict((i,x.count(i)) for i in x)\n",
    "    y_st = sorted(y.items(), key = lambda x : (-x[-1], x[0]))\n",
    "    return y_st[0][0]"
   ]
  },
  {
   "cell_type": "code",
   "execution_count": 355,
   "metadata": {
    "hidden": true
   },
   "outputs": [
    {
     "name": "stdout",
     "output_type": "stream",
     "text": [
      "37055.5\n",
      "26295.0\n",
      "4978\n"
     ]
    }
   ],
   "source": [
    "print(round(mean_f(lst),1))\n",
    "print(round(median_f(lst),1))\n",
    "print(round(mode_f(lst),1))"
   ]
  },
  {
   "cell_type": "markdown",
   "metadata": {
    "hidden": true
   },
   "source": [
    "## using packages in statistics"
   ]
  },
  {
   "cell_type": "code",
   "execution_count": 356,
   "metadata": {
    "hidden": true
   },
   "outputs": [],
   "source": [
    "import statistics as stats"
   ]
  },
  {
   "cell_type": "code",
   "execution_count": 357,
   "metadata": {
    "hidden": true
   },
   "outputs": [
    {
     "data": {
      "text/plain": [
       "37055.5"
      ]
     },
     "execution_count": 357,
     "metadata": {},
     "output_type": "execute_result"
    }
   ],
   "source": [
    "stats.mean(lst)"
   ]
  },
  {
   "cell_type": "code",
   "execution_count": 358,
   "metadata": {
    "hidden": true
   },
   "outputs": [
    {
     "data": {
      "text/plain": [
       "26295.0"
      ]
     },
     "execution_count": 358,
     "metadata": {},
     "output_type": "execute_result"
    }
   ],
   "source": [
    "stats.median(lst)"
   ]
  },
  {
   "cell_type": "code",
   "execution_count": 359,
   "metadata": {
    "hidden": true
   },
   "outputs": [
    {
     "data": {
      "text/plain": [
       "4978"
      ]
     },
     "execution_count": 359,
     "metadata": {},
     "output_type": "execute_result"
    }
   ],
   "source": [
    "stats.mode(lst)"
   ]
  },
  {
   "cell_type": "code",
   "execution_count": 361,
   "metadata": {
    "hidden": true
   },
   "outputs": [
    {
     "name": "stdout",
     "output_type": "stream",
     "text": [
      "37055.5\n",
      "26295.0\n",
      "4978\n"
     ]
    }
   ],
   "source": [
    "print(round(stats.mean(lst),1))\n",
    "print(round(stats.median(lst),1))\n",
    "print(round(stats.mode(lst),1))"
   ]
  },
  {
   "cell_type": "code",
   "execution_count": 363,
   "metadata": {
    "hidden": true
   },
   "outputs": [
    {
     "name": "stdout",
     "output_type": "stream",
     "text": [
      "37055.5\n",
      "26295.0\n",
      "4978\n"
     ]
    }
   ],
   "source": [
    "print(round(stats.mean(lst),1))\n",
    "print(round(stats.median(lst),1))\n",
    "print(round(stats.mode(lst),1))"
   ]
  },
  {
   "cell_type": "markdown",
   "metadata": {
    "hidden": true
   },
   "source": [
    "## using numpy"
   ]
  },
  {
   "cell_type": "code",
   "execution_count": 366,
   "metadata": {
    "hidden": true
   },
   "outputs": [
    {
     "name": "stdout",
     "output_type": "stream",
     "text": [
      "37055.5\n",
      "26295.0\n",
      "4978\n"
     ]
    }
   ],
   "source": [
    "print(np.mean(lst))\n",
    "print(np.median(lst))\n",
    "print(int(stats.mode(lst)))"
   ]
  },
  {
   "cell_type": "code",
   "execution_count": 369,
   "metadata": {
    "hidden": true
   },
   "outputs": [
    {
     "data": {
      "text/plain": [
       "4978"
      ]
     },
     "execution_count": 369,
     "metadata": {},
     "output_type": "execute_result"
    }
   ],
   "source": [
    "stats.mode(lst)"
   ]
  },
  {
   "cell_type": "markdown",
   "metadata": {
    "hidden": true
   },
   "source": [
    "## using panda series"
   ]
  },
  {
   "cell_type": "code",
   "execution_count": 371,
   "metadata": {
    "hidden": true
   },
   "outputs": [],
   "source": [
    "lst_pd = pd.Series(lst)"
   ]
  },
  {
   "cell_type": "code",
   "execution_count": 372,
   "metadata": {
    "hidden": true
   },
   "outputs": [
    {
     "data": {
      "text/plain": [
       "0     4978\n",
       "1     4978\n",
       "2    11735\n",
       "3    14216\n",
       "4    14470\n",
       "5    38120\n",
       "6    51135\n",
       "7    64630\n",
       "8    67060\n",
       "9    99233\n",
       "dtype: int64"
      ]
     },
     "execution_count": 372,
     "metadata": {},
     "output_type": "execute_result"
    }
   ],
   "source": [
    "lst_pd"
   ]
  },
  {
   "cell_type": "code",
   "execution_count": 373,
   "metadata": {
    "hidden": true
   },
   "outputs": [
    {
     "data": {
      "text/plain": [
       "37055.5"
      ]
     },
     "execution_count": 373,
     "metadata": {},
     "output_type": "execute_result"
    }
   ],
   "source": [
    "lst_pd.mean()"
   ]
  },
  {
   "cell_type": "code",
   "execution_count": 374,
   "metadata": {
    "hidden": true
   },
   "outputs": [
    {
     "data": {
      "text/plain": [
       "26295.0"
      ]
     },
     "execution_count": 374,
     "metadata": {},
     "output_type": "execute_result"
    }
   ],
   "source": [
    "lst_pd.median()"
   ]
  },
  {
   "cell_type": "code",
   "execution_count": 376,
   "metadata": {
    "hidden": true
   },
   "outputs": [
    {
     "data": {
      "text/plain": [
       "4978"
      ]
     },
     "execution_count": 376,
     "metadata": {},
     "output_type": "execute_result"
    }
   ],
   "source": [
    "lst_pd.mode()[0]"
   ]
  },
  {
   "cell_type": "markdown",
   "metadata": {
    "heading_collapsed": true
   },
   "source": [
    "# Weighted Mean"
   ]
  },
  {
   "cell_type": "code",
   "execution_count": 5,
   "metadata": {
    "hidden": true
   },
   "outputs": [],
   "source": [
    "a = '5'\n",
    "b = '10 40 30 50 20'\n",
    "c='1 2 3 4 5'"
   ]
  },
  {
   "cell_type": "code",
   "execution_count": 6,
   "metadata": {
    "hidden": true
   },
   "outputs": [],
   "source": [
    "n = int(a)\n",
    "x = list(map(int, b.split()))\n",
    "y = list(map(int, c.split()))"
   ]
  },
  {
   "cell_type": "code",
   "execution_count": 7,
   "metadata": {
    "hidden": true
   },
   "outputs": [
    {
     "data": {
      "text/plain": [
       "5"
      ]
     },
     "execution_count": 7,
     "metadata": {},
     "output_type": "execute_result"
    }
   ],
   "source": [
    "n"
   ]
  },
  {
   "cell_type": "code",
   "execution_count": 8,
   "metadata": {
    "hidden": true
   },
   "outputs": [
    {
     "data": {
      "text/plain": [
       "[10, 40, 30, 50, 20]"
      ]
     },
     "execution_count": 8,
     "metadata": {},
     "output_type": "execute_result"
    }
   ],
   "source": [
    "x"
   ]
  },
  {
   "cell_type": "code",
   "execution_count": 9,
   "metadata": {
    "hidden": true
   },
   "outputs": [
    {
     "data": {
      "text/plain": [
       "[1, 2, 3, 4, 5]"
      ]
     },
     "execution_count": 9,
     "metadata": {},
     "output_type": "execute_result"
    }
   ],
   "source": [
    "y"
   ]
  },
  {
   "cell_type": "code",
   "execution_count": 16,
   "metadata": {
    "hidden": true
   },
   "outputs": [],
   "source": [
    "def weighted_average(x,y,n):\n",
    "    sum_total = 0\n",
    "    sum_y = 0\n",
    "    for i in range(n):\n",
    "        sum_total += x[i] *y[i]\n",
    "        sum_y += y[i]\n",
    "    print(sum_total)\n",
    "    print(sum_y)\n",
    "    return round(sum_total/sum_y,1)"
   ]
  },
  {
   "cell_type": "code",
   "execution_count": 17,
   "metadata": {
    "hidden": true
   },
   "outputs": [
    {
     "name": "stdout",
     "output_type": "stream",
     "text": [
      "480\n",
      "15\n"
     ]
    },
    {
     "data": {
      "text/plain": [
       "32.0"
      ]
     },
     "execution_count": 17,
     "metadata": {},
     "output_type": "execute_result"
    }
   ],
   "source": [
    "weighted_average(x,y,n)"
   ]
  },
  {
   "cell_type": "code",
   "execution_count": 21,
   "metadata": {
    "hidden": true
   },
   "outputs": [
    {
     "data": {
      "text/plain": [
       "[10, 80, 90, 200, 100]"
      ]
     },
     "execution_count": 21,
     "metadata": {},
     "output_type": "execute_result"
    }
   ],
   "source": [
    "[x[i]*y[i] for i in range(n) ]"
   ]
  },
  {
   "cell_type": "code",
   "execution_count": 23,
   "metadata": {
    "hidden": true
   },
   "outputs": [
    {
     "data": {
      "text/plain": [
       "32.0"
      ]
     },
     "execution_count": 23,
     "metadata": {},
     "output_type": "execute_result"
    }
   ],
   "source": [
    "sum(x[i]*y[i] for i in range(n))/sum(y)"
   ]
  },
  {
   "cell_type": "markdown",
   "metadata": {
    "heading_collapsed": true
   },
   "source": [
    "#  Quartiles"
   ]
  },
  {
   "cell_type": "code",
   "execution_count": 132,
   "metadata": {
    "hidden": true
   },
   "outputs": [],
   "source": [
    "n = '9'\n",
    "data = '3 7 8 5 12 14 21 13 18'"
   ]
  },
  {
   "cell_type": "markdown",
   "metadata": {
    "hidden": true
   },
   "source": [
    "## with customized function"
   ]
  },
  {
   "cell_type": "code",
   "execution_count": 133,
   "metadata": {
    "hidden": true
   },
   "outputs": [],
   "source": [
    "n = int(n)\n",
    "arr = list(map(int,data.split()))\n",
    "#arr.sort() # will change original order"
   ]
  },
  {
   "cell_type": "code",
   "execution_count": 134,
   "metadata": {
    "hidden": true
   },
   "outputs": [
    {
     "data": {
      "text/plain": [
       "[3, 7, 8, 5, 12, 14, 21, 13, 18]"
      ]
     },
     "execution_count": 134,
     "metadata": {},
     "output_type": "execute_result"
    }
   ],
   "source": [
    "arr"
   ]
  },
  {
   "cell_type": "code",
   "execution_count": 135,
   "metadata": {
    "hidden": true
   },
   "outputs": [
    {
     "data": {
      "text/plain": [
       "[3, 5, 7, 8, 12, 13, 14, 18, 21]"
      ]
     },
     "execution_count": 135,
     "metadata": {},
     "output_type": "execute_result"
    }
   ],
   "source": [
    "sorted(arr) # only applied on current line, not change original order"
   ]
  },
  {
   "cell_type": "code",
   "execution_count": 136,
   "metadata": {
    "hidden": true
   },
   "outputs": [
    {
     "data": {
      "text/plain": [
       "[3, 7, 8, 5, 12, 14, 21, 13, 18]"
      ]
     },
     "execution_count": 136,
     "metadata": {},
     "output_type": "execute_result"
    }
   ],
   "source": [
    "arr"
   ]
  },
  {
   "cell_type": "code",
   "execution_count": 139,
   "metadata": {
    "hidden": true
   },
   "outputs": [],
   "source": [
    "def median_f(x):\n",
    "    n = len(x)\n",
    "    x = sorted(x)\n",
    "    if n %2 == 0:\n",
    "        a = x[int(n/2)]\n",
    "        b = x[int(n/2)-1]\n",
    "        return (a + b) /2\n",
    "    else:\n",
    "        return x[int((n+1)/2)]\n",
    "    \n",
    "def quartiles(arr):\n",
    "    # Write your code here\n",
    "    if n %2 == 0:\n",
    "        m = int(n/2)\n",
    "        q1 = median_f(arr[:m])\n",
    "        q2 = (arr[m-1]+arr[m])/2\n",
    "        q3 = median_f(arr[m:])\n",
    "    else:\n",
    "        m = int((n-1)/2)\n",
    "        q1 = median_f(arr[:m])\n",
    "        q2 = arr[m]\n",
    "        q3 = median_f(arr[m+1:])\n",
    "    print(int(q1))\n",
    "    print(int(q2))\n",
    "    print(int(q3))\n",
    "    "
   ]
  },
  {
   "cell_type": "code",
   "execution_count": 140,
   "metadata": {
    "hidden": true
   },
   "outputs": [
    {
     "name": "stdout",
     "output_type": "stream",
     "text": [
      "6\n",
      "12\n",
      "16\n"
     ]
    }
   ],
   "source": [
    "quartiles(arr)"
   ]
  },
  {
   "cell_type": "markdown",
   "metadata": {
    "hidden": true
   },
   "source": [
    "## with statistics package"
   ]
  },
  {
   "cell_type": "code",
   "execution_count": 148,
   "metadata": {
    "hidden": true
   },
   "outputs": [],
   "source": [
    "from statistics import median\n",
    "def quartiles(arr):\n",
    "    # Write your code here\n",
    "    m = int(n/2)\n",
    "    L = arr[:m]\n",
    "    q1 = int(median(L))\n",
    "    if n %2 == 0:\n",
    "        q2 = (arr[m-1]+arr[m])/2\n",
    "        U = arr[m:]\n",
    "    else:\n",
    "        q2 = arr[m]\n",
    "        U=arr[m+1:]\n",
    "    q3 = int(median(U)) # function return 1 decimal\n",
    "    \n",
    "    return q1,q2,q3"
   ]
  },
  {
   "cell_type": "code",
   "execution_count": 149,
   "metadata": {
    "hidden": true
   },
   "outputs": [
    {
     "data": {
      "text/plain": [
       "(6, 12, 16)"
      ]
     },
     "execution_count": 149,
     "metadata": {},
     "output_type": "execute_result"
    }
   ],
   "source": [
    "quartiles(arr)"
   ]
  },
  {
   "cell_type": "markdown",
   "metadata": {
    "heading_collapsed": true
   },
   "source": [
    "#  Interquartile Range"
   ]
  },
  {
   "cell_type": "code",
   "execution_count": 179,
   "metadata": {
    "hidden": true
   },
   "outputs": [],
   "source": [
    "l1 = '6' \n",
    "l2 = '6 12 8 10 20 16'\n",
    "l3 = '5 4 3 2 1 5' "
   ]
  },
  {
   "cell_type": "code",
   "execution_count": 298,
   "metadata": {
    "hidden": true
   },
   "outputs": [],
   "source": [
    "n =int(l1)\n",
    "val= list(map(int, l2.split()))\n",
    "freq = list(map(int, l3.split())) "
   ]
  },
  {
   "cell_type": "code",
   "execution_count": 299,
   "metadata": {
    "hidden": true
   },
   "outputs": [
    {
     "data": {
      "text/plain": [
       "[]"
      ]
     },
     "execution_count": 299,
     "metadata": {},
     "output_type": "execute_result"
    }
   ],
   "source": [
    "s = []\n",
    "s"
   ]
  },
  {
   "cell_type": "code",
   "execution_count": 300,
   "metadata": {
    "hidden": true
   },
   "outputs": [
    {
     "data": {
      "text/plain": [
       "[[6, 6, 6, 6, 6],\n",
       " [12, 12, 12, 12],\n",
       " [8, 8, 8],\n",
       " [10, 10],\n",
       " [20],\n",
       " [16, 16, 16, 16, 16]]"
      ]
     },
     "execution_count": 300,
     "metadata": {},
     "output_type": "execute_result"
    }
   ],
   "source": [
    " [[val[i]]*freq[i]  for i in range(n)]"
   ]
  },
  {
   "cell_type": "code",
   "execution_count": 301,
   "metadata": {
    "hidden": true
   },
   "outputs": [
    {
     "name": "stdout",
     "output_type": "stream",
     "text": [
      "0 [6, 6, 6, 6, 6]\n",
      "1 [12, 12, 12, 12]\n",
      "2 [8, 8, 8]\n",
      "3 [10, 10]\n",
      "4 [20]\n",
      "5 [16, 16, 16, 16, 16]\n"
     ]
    }
   ],
   "source": [
    "for i in range(n):\n",
    "    print(i,[val[i]]*freq[i])\n",
    "    s +=[val[i]]*freq[i]"
   ]
  },
  {
   "cell_type": "code",
   "execution_count": 310,
   "metadata": {
    "hidden": true
   },
   "outputs": [
    {
     "ename": "SyntaxError",
     "evalue": "invalid syntax (<ipython-input-310-e7fc1c3f72c8>, line 1)",
     "output_type": "error",
     "traceback": [
      "\u001b[1;36m  File \u001b[1;32m\"<ipython-input-310-e7fc1c3f72c8>\"\u001b[1;36m, line \u001b[1;32m1\u001b[0m\n\u001b[1;33m    (s +=[val[i]]*freq[i] for i in range(n))\u001b[0m\n\u001b[1;37m        ^\u001b[0m\n\u001b[1;31mSyntaxError\u001b[0m\u001b[1;31m:\u001b[0m invalid syntax\n"
     ]
    }
   ],
   "source": [
    "(s +=[val[i]]*freq[i] for i in range(n))"
   ]
  },
  {
   "cell_type": "code",
   "execution_count": 302,
   "metadata": {
    "hidden": true
   },
   "outputs": [],
   "source": [
    "s.sort()"
   ]
  },
  {
   "cell_type": "code",
   "execution_count": 303,
   "metadata": {
    "hidden": true
   },
   "outputs": [],
   "source": [
    "def iqr(s):\n",
    "    m = int(len(s)/2)\n",
    "    l = s[:m]\n",
    "    if m %2 == 0:\n",
    "        r = s[m:]\n",
    "    else:\n",
    "        r = s[m+1:]\n",
    "    q1 = median(l)\n",
    "    q3 = median(r)\n",
    "    iqr = q3 -q1\n",
    "    return iqr"
   ]
  },
  {
   "cell_type": "code",
   "execution_count": 304,
   "metadata": {
    "hidden": true
   },
   "outputs": [
    {
     "data": {
      "text/plain": [
       "9.0"
      ]
     },
     "execution_count": 304,
     "metadata": {},
     "output_type": "execute_result"
    }
   ],
   "source": [
    "iqr(s)"
   ]
  },
  {
   "cell_type": "code",
   "execution_count": 305,
   "metadata": {
    "hidden": true
   },
   "outputs": [],
   "source": [
    "# other way to extend list by two lists"
   ]
  },
  {
   "cell_type": "code",
   "execution_count": 306,
   "metadata": {
    "hidden": true
   },
   "outputs": [],
   "source": [
    "lst = []\n",
    "for x,f in zip(val,freq):\n",
    "    while f:\n",
    "        lst.append(x)\n",
    "        f=f-1"
   ]
  },
  {
   "cell_type": "code",
   "execution_count": 307,
   "metadata": {
    "hidden": true
   },
   "outputs": [
    {
     "data": {
      "text/plain": [
       "[6, 6, 6, 6, 6, 12, 12, 12, 12, 8, 8, 8, 10, 10, 20, 16, 16, 16, 16, 16]"
      ]
     },
     "execution_count": 307,
     "metadata": {},
     "output_type": "execute_result"
    }
   ],
   "source": [
    "lst"
   ]
  },
  {
   "cell_type": "code",
   "execution_count": 321,
   "metadata": {
    "hidden": true
   },
   "outputs": [],
   "source": [
    "def interQuartile(values, freqs):\n",
    "    # Print your answer to 1 decimal place within this function\n",
    "    s = []\n",
    "    for v, f in zip(val, freq):\n",
    "        while f: \n",
    "            s.append(v)\n",
    "            f =f-1\n",
    "    s.sort()        \n",
    "    m = int(len(s)/2)\n",
    "    l = s[:m]\n",
    "    if len(s) %2 ==0:\n",
    "        r = s[m:]\n",
    "    else:\n",
    "        r = s[m+1:]\n",
    "    q1 = median(l)\n",
    "    q3 = median(r)\n",
    "    iqr = round(float(q3-q1),1) # be carefully when we look at the expected result and the orginal data type\n",
    "    \n",
    "    return iqr"
   ]
  },
  {
   "cell_type": "code",
   "execution_count": 322,
   "metadata": {
    "hidden": true
   },
   "outputs": [
    {
     "data": {
      "text/plain": [
       "9.0"
      ]
     },
     "execution_count": 322,
     "metadata": {},
     "output_type": "execute_result"
    }
   ],
   "source": [
    "interQuartile(val, freq)"
   ]
  },
  {
   "cell_type": "markdown",
   "metadata": {
    "heading_collapsed": true
   },
   "source": [
    "# Standard Deviation"
   ]
  },
  {
   "cell_type": "code",
   "execution_count": 345,
   "metadata": {
    "hidden": true
   },
   "outputs": [],
   "source": [
    "l1 = '5'              \n",
    "l2 = '10 40 30 50 20'"
   ]
  },
  {
   "cell_type": "code",
   "execution_count": 346,
   "metadata": {
    "hidden": true
   },
   "outputs": [],
   "source": [
    "n = int(l1)\n",
    "arr = list(map(int,l2.rstrip().split()))"
   ]
  },
  {
   "cell_type": "code",
   "execution_count": 354,
   "metadata": {
    "hidden": true
   },
   "outputs": [],
   "source": [
    "def stdDev(arr):\n",
    "    mean = sum(arr)/n\n",
    "    var_sum = 0\n",
    "    for i in range(n):\n",
    "        var_sum += (arr[i]-mean)**2 # power(x,2)\n",
    "\n",
    "    std = (var_sum/n)**0.5 # math.sqrt(x)\n",
    "    \n",
    "    return round(std,1)"
   ]
  },
  {
   "cell_type": "code",
   "execution_count": 355,
   "metadata": {
    "hidden": true
   },
   "outputs": [
    {
     "data": {
      "text/plain": [
       "14.1"
      ]
     },
     "execution_count": 355,
     "metadata": {},
     "output_type": "execute_result"
    }
   ],
   "source": [
    "stdDev(arr)"
   ]
  },
  {
   "cell_type": "markdown",
   "metadata": {
    "heading_collapsed": true
   },
   "source": [
    "# Binomial Distribution I"
   ]
  },
  {
   "cell_type": "code",
   "execution_count": 468,
   "metadata": {
    "hidden": true
   },
   "outputs": [],
   "source": [
    "l = '1.09 1'"
   ]
  },
  {
   "cell_type": "code",
   "execution_count": 469,
   "metadata": {
    "hidden": true
   },
   "outputs": [],
   "source": [
    "a,b = map(float, l.split())"
   ]
  },
  {
   "cell_type": "code",
   "execution_count": 470,
   "metadata": {
    "hidden": true
   },
   "outputs": [],
   "source": [
    "# Calculate probility\n",
    "p = a/(b+a)"
   ]
  },
  {
   "cell_type": "markdown",
   "metadata": {
    "hidden": true
   },
   "source": [
    "## factorial"
   ]
  },
  {
   "cell_type": "code",
   "execution_count": 4,
   "metadata": {
    "hidden": true
   },
   "outputs": [],
   "source": [
    "# from definition\n",
    "def f(x):\n",
    "    f = 1\n",
    "    if x == 0:\n",
    "        return f\n",
    "    while x:\n",
    "        f = f * x\n",
    "        x = x -1\n",
    "    return f "
   ]
  },
  {
   "cell_type": "code",
   "execution_count": 28,
   "metadata": {
    "hidden": true
   },
   "outputs": [],
   "source": [
    "# other method # recursive # most clear \n",
    "def factorial(x):\n",
    "    if x < 0:\n",
    "        return 'factorial() not defined for negative values'\n",
    "    elif x == 0: \n",
    "        return 1\n",
    "    else:\n",
    "        return x*factorial(x-1)"
   ]
  },
  {
   "cell_type": "code",
   "execution_count": 32,
   "metadata": {
    "hidden": true
   },
   "outputs": [
    {
     "ename": "ValueError",
     "evalue": "factorial() not defined for negative values",
     "output_type": "error",
     "traceback": [
      "\u001b[1;31m---------------------------------------------------------------------------\u001b[0m",
      "\u001b[1;31mValueError\u001b[0m                                Traceback (most recent call last)",
      "\u001b[1;32m<ipython-input-32-7cf3934f1025>\u001b[0m in \u001b[0;36m<module>\u001b[1;34m\u001b[0m\n\u001b[0;32m      1\u001b[0m \u001b[1;31m# Use a package for factorial\u001b[0m\u001b[1;33m\u001b[0m\u001b[1;33m\u001b[0m\u001b[1;33m\u001b[0m\u001b[0m\n\u001b[0;32m      2\u001b[0m \u001b[1;32mimport\u001b[0m \u001b[0mmath\u001b[0m\u001b[1;33m\u001b[0m\u001b[1;33m\u001b[0m\u001b[0m\n\u001b[1;32m----> 3\u001b[1;33m \u001b[0mprint\u001b[0m\u001b[1;33m(\u001b[0m\u001b[0mmath\u001b[0m\u001b[1;33m.\u001b[0m\u001b[0mfactorial\u001b[0m\u001b[1;33m(\u001b[0m\u001b[1;33m-\u001b[0m\u001b[1;36m1\u001b[0m\u001b[1;33m)\u001b[0m\u001b[1;33m)\u001b[0m\u001b[1;33m\u001b[0m\u001b[1;33m\u001b[0m\u001b[0m\n\u001b[0m",
      "\u001b[1;31mValueError\u001b[0m: factorial() not defined for negative values"
     ]
    }
   ],
   "source": [
    "# Use a package for factorial\n",
    "import math\n",
    "print(math.factorial(-1)) "
   ]
  },
  {
   "cell_type": "code",
   "execution_count": 33,
   "metadata": {
    "hidden": true
   },
   "outputs": [
    {
     "data": {
      "text/plain": [
       "120"
      ]
     },
     "execution_count": 33,
     "metadata": {},
     "output_type": "execute_result"
    }
   ],
   "source": [
    "f(5)"
   ]
  },
  {
   "cell_type": "code",
   "execution_count": 34,
   "metadata": {
    "hidden": true
   },
   "outputs": [
    {
     "data": {
      "text/plain": [
       "'factorial() not defined for negative values'"
      ]
     },
     "execution_count": 34,
     "metadata": {},
     "output_type": "execute_result"
    }
   ],
   "source": [
    "factorial(-5)"
   ]
  },
  {
   "cell_type": "markdown",
   "metadata": {
    "heading_collapsed": true,
    "hidden": true
   },
   "source": [
    "## permutation & combination"
   ]
  },
  {
   "cell_type": "code",
   "execution_count": 27,
   "metadata": {
    "hidden": true
   },
   "outputs": [],
   "source": [
    "# permutation from definition\n",
    "def P(n,x):\n",
    "    return f(n)/f(n-x)"
   ]
  },
  {
   "cell_type": "code",
   "execution_count": 26,
   "metadata": {
    "hidden": true
   },
   "outputs": [],
   "source": [
    "# combination from definition\n",
    "def C(n,x):\n",
    "    return f(n)/(f(x)*f(n-x))"
   ]
  },
  {
   "cell_type": "code",
   "execution_count": 35,
   "metadata": {
    "hidden": true
   },
   "outputs": [],
   "source": [
    "# from package\n",
    "def Permutations(n,k): \n",
    "    return math.factorial(n) / math.factorial(n - k)\n",
    "\n",
    "# Determine Combinations and print result\n",
    "def Combinations(n,k):\n",
    "    return Permutations(n,k)/ math.factorial(k)"
   ]
  },
  {
   "cell_type": "code",
   "execution_count": 36,
   "metadata": {
    "hidden": true
   },
   "outputs": [
    {
     "data": {
      "text/plain": [
       "60.0"
      ]
     },
     "execution_count": 36,
     "metadata": {},
     "output_type": "execute_result"
    }
   ],
   "source": [
    "Permutations(5,3)"
   ]
  },
  {
   "cell_type": "code",
   "execution_count": 37,
   "metadata": {
    "hidden": true
   },
   "outputs": [
    {
     "data": {
      "text/plain": [
       "10.0"
      ]
     },
     "execution_count": 37,
     "metadata": {},
     "output_type": "execute_result"
    }
   ],
   "source": [
    "Combinations(5,2)"
   ]
  },
  {
   "cell_type": "code",
   "execution_count": 29,
   "metadata": {
    "hidden": true
   },
   "outputs": [
    {
     "name": "stdout",
     "output_type": "stream",
     "text": [
      "('a', 'b', 'c')\n",
      "('a', 'c', 'b')\n",
      "('b', 'a', 'c')\n",
      "('b', 'c', 'a')\n",
      "('c', 'a', 'b')\n",
      "('c', 'b', 'a')\n"
     ]
    }
   ],
   "source": [
    "# other\n",
    "from itertools import permutations  \n",
    "seq = permutations(['a','b','c'])\n",
    "\n",
    "for p in list(seq):\n",
    "    print(p)"
   ]
  },
  {
   "cell_type": "code",
   "execution_count": 31,
   "metadata": {
    "hidden": true
   },
   "outputs": [
    {
     "name": "stdout",
     "output_type": "stream",
     "text": [
      "('p', 'y', 't', 'h', 'o')\n",
      "('p', 'y', 't', 'h', 'n')\n",
      "('p', 'y', 't', 'o', 'n')\n",
      "('p', 'y', 'h', 'o', 'n')\n",
      "('p', 't', 'h', 'o', 'n')\n",
      "('y', 't', 'h', 'o', 'n')\n"
     ]
    }
   ],
   "source": [
    "from itertools import combinations\n",
    "combi = combinations(['p', 'y', 't', 'h', 'o', 'n'], 5)\n",
    "#Print the list of combinations\n",
    "for c in list(combi):\n",
    "    print(c)"
   ]
  },
  {
   "cell_type": "code",
   "execution_count": 25,
   "metadata": {
    "hidden": true
   },
   "outputs": [
    {
     "data": {
      "text/plain": [
       "10.0"
      ]
     },
     "execution_count": 25,
     "metadata": {},
     "output_type": "execute_result"
    }
   ],
   "source": [
    "C(5,2)"
   ]
  },
  {
   "cell_type": "code",
   "execution_count": 506,
   "metadata": {
    "hidden": true
   },
   "outputs": [],
   "source": [
    "p = 0.5"
   ]
  },
  {
   "cell_type": "markdown",
   "metadata": {
    "hidden": true
   },
   "source": [
    "## Cumulative Probability"
   ]
  },
  {
   "cell_type": "code",
   "execution_count": 32,
   "metadata": {
    "hidden": true
   },
   "outputs": [],
   "source": [
    "# from definition\n",
    "def F(n,x):\n",
    "    F = 0\n",
    "    while x>=0:\n",
    "        F += C(n,x)* (p**x) *((1-p)**(n-x))\n",
    "        #print(F,x, C(n,x))\n",
    "        x -=1\n",
    "    return F"
   ]
  },
  {
   "cell_type": "code",
   "execution_count": 508,
   "metadata": {
    "hidden": true
   },
   "outputs": [
    {
     "data": {
      "text/plain": [
       "0.34375"
      ]
     },
     "execution_count": 508,
     "metadata": {},
     "output_type": "execute_result"
    }
   ],
   "source": [
    "F(6,2)"
   ]
  },
  {
   "cell_type": "code",
   "execution_count": 509,
   "metadata": {
    "hidden": true
   },
   "outputs": [
    {
     "data": {
      "text/plain": [
       "0.623046875"
      ]
     },
     "execution_count": 509,
     "metadata": {},
     "output_type": "execute_result"
    }
   ],
   "source": [
    "F(10,10) - F(10,4)"
   ]
  },
  {
   "cell_type": "markdown",
   "metadata": {
    "hidden": true
   },
   "source": [
    "## final result"
   ]
  },
  {
   "cell_type": "code",
   "execution_count": 2,
   "metadata": {
    "hidden": true
   },
   "outputs": [],
   "source": [
    "def f(x):\n",
    "    f = 1 \n",
    "    if x == 0 : # the factoria of 0 ==1\n",
    "        return 1\n",
    "    while x:\n",
    "        f = f*x\n",
    "        x = x -1\n",
    "    return f\n",
    "\n",
    "def C(n,x):\n",
    "    return f(n)/(f(x)*f(n-x))\n",
    "\n",
    "\n",
    "def F(n,x):\n",
    "    F = 0\n",
    "    while x >= 0:\n",
    "        F += C(n,x)*(p**x)*((1-p)**(n-x))\n",
    "        #print(x, C(n,x)*(p**x)*((1-p)**(n-x)))\n",
    "        x = x-1\n",
    "    return round(F,3)  "
   ]
  },
  {
   "cell_type": "code",
   "execution_count": 511,
   "metadata": {
    "hidden": true
   },
   "outputs": [
    {
     "data": {
      "text/plain": [
       "0.656"
      ]
     },
     "execution_count": 511,
     "metadata": {},
     "output_type": "execute_result"
    }
   ],
   "source": [
    "1- F(6,2)"
   ]
  },
  {
   "cell_type": "markdown",
   "metadata": {
    "heading_collapsed": true
   },
   "source": [
    "# Binomial Distribution II"
   ]
  },
  {
   "cell_type": "code",
   "execution_count": 3,
   "metadata": {
    "hidden": true
   },
   "outputs": [],
   "source": [
    "l ='12 10'"
   ]
  },
  {
   "cell_type": "code",
   "execution_count": 4,
   "metadata": {
    "hidden": true
   },
   "outputs": [],
   "source": [
    "p, n = map(float,l.split())"
   ]
  },
  {
   "cell_type": "code",
   "execution_count": 5,
   "metadata": {
    "hidden": true
   },
   "outputs": [],
   "source": [
    "p  = p/100"
   ]
  },
  {
   "cell_type": "code",
   "execution_count": 6,
   "metadata": {
    "hidden": true
   },
   "outputs": [
    {
     "data": {
      "text/plain": [
       "0.891"
      ]
     },
     "execution_count": 6,
     "metadata": {},
     "output_type": "execute_result"
    }
   ],
   "source": [
    "F(n,2)"
   ]
  },
  {
   "cell_type": "code",
   "execution_count": 7,
   "metadata": {
    "hidden": true
   },
   "outputs": [
    {
     "data": {
      "text/plain": [
       "0.34199999999999997"
      ]
     },
     "execution_count": 7,
     "metadata": {},
     "output_type": "execute_result"
    }
   ],
   "source": [
    "1- F(n,1)"
   ]
  },
  {
   "cell_type": "code",
   "execution_count": 13,
   "metadata": {
    "hidden": true
   },
   "outputs": [
    {
     "name": "stdout",
     "output_type": "stream",
     "text": [
      "0.891\n"
     ]
    }
   ],
   "source": [
    "print(\"%.3f\" %F(n,2))"
   ]
  },
  {
   "cell_type": "markdown",
   "metadata": {},
   "source": [
    "# Geometric Distribution I"
   ]
  },
  {
   "cell_type": "code",
   "execution_count": 35,
   "metadata": {},
   "outputs": [],
   "source": [
    "l1 = '1 3'\n",
    "l2 = '5'"
   ]
  },
  {
   "cell_type": "code",
   "execution_count": 36,
   "metadata": {},
   "outputs": [],
   "source": [
    "a, b = map(int, l1.split())\n",
    "n = int(l2)"
   ]
  },
  {
   "cell_type": "code",
   "execution_count": 38,
   "metadata": {},
   "outputs": [],
   "source": [
    "p = a/b"
   ]
  },
  {
   "cell_type": "code",
   "execution_count": 48,
   "metadata": {},
   "outputs": [],
   "source": [
    "def geo_dist(p, n):\n",
    "    return p*((1-p)**(n-1))"
   ]
  },
  {
   "cell_type": "code",
   "execution_count": 49,
   "metadata": {},
   "outputs": [
    {
     "data": {
      "text/plain": [
       "0.066"
      ]
     },
     "execution_count": 49,
     "metadata": {},
     "output_type": "execute_result"
    }
   ],
   "source": [
    "round(geo_dist(p,n),3)"
   ]
  },
  {
   "cell_type": "markdown",
   "metadata": {},
   "source": [
    "#  Poisson Distribution I"
   ]
  },
  {
   "cell_type": "code",
   "execution_count": 52,
   "metadata": {},
   "outputs": [],
   "source": [
    "l = 2.5\n",
    "k = 5"
   ]
  },
  {
   "cell_type": "code",
   "execution_count": 58,
   "metadata": {},
   "outputs": [],
   "source": [
    "# from definition\n",
    "def possion_dist(lambd, k):\n",
    "    return  (lambd ** k * np.exp(-lambd)) / np.math.factorial(k)"
   ]
  },
  {
   "cell_type": "code",
   "execution_count": 62,
   "metadata": {},
   "outputs": [
    {
     "data": {
      "text/plain": [
       "0.06680094289054264"
      ]
     },
     "execution_count": 62,
     "metadata": {},
     "output_type": "execute_result"
    }
   ],
   "source": [
    "possion_dist(l, k)"
   ]
  },
  {
   "cell_type": "code",
   "execution_count": 63,
   "metadata": {},
   "outputs": [
    {
     "name": "stdout",
     "output_type": "stream",
     "text": [
      "2.5\n",
      "5\n",
      "0.067\n"
     ]
    }
   ],
   "source": [
    "# use everything from definition\n",
    "from math import e\n",
    "l = float(input())\n",
    "k = int(input())\n",
    "\n",
    "def factorial(x):\n",
    "    if x < 0:\n",
    "        return 'Error'\n",
    "    if x ==0 :\n",
    "        return 1\n",
    "    else:\n",
    "        return x*factorial(x-1)\n",
    "\n",
    "def pmf(k,l):\n",
    "    return l**k*e**(-l)/factorial(k) \n",
    "\n",
    "print(round(pmf(k,l),3))"
   ]
  },
  {
   "cell_type": "code",
   "execution_count": 64,
   "metadata": {},
   "outputs": [
    {
     "data": {
      "text/plain": [
       "0.06680094289054267"
      ]
     },
     "execution_count": 64,
     "metadata": {},
     "output_type": "execute_result"
    }
   ],
   "source": [
    "# from package \n",
    "from scipy.stats import poisson\n",
    "poisson.pmf(k, l) # probability mass function "
   ]
  },
  {
   "cell_type": "markdown",
   "metadata": {},
   "source": [
    "#  Poisson Distribution II"
   ]
  },
  {
   "cell_type": "code",
   "execution_count": 65,
   "metadata": {},
   "outputs": [],
   "source": [
    "def X_square(l):\n",
    "    return l+l**2"
   ]
  },
  {
   "cell_type": "code",
   "execution_count": 69,
   "metadata": {},
   "outputs": [],
   "source": [
    "a = 0.88"
   ]
  },
  {
   "cell_type": "code",
   "execution_count": 70,
   "metadata": {},
   "outputs": [],
   "source": [
    "b = 1.55"
   ]
  },
  {
   "cell_type": "code",
   "execution_count": 75,
   "metadata": {},
   "outputs": [
    {
     "name": "stdout",
     "output_type": "stream",
     "text": [
      "226.176\n",
      "286.1\n"
     ]
    }
   ],
   "source": [
    "A = 160.000 + 40 * X_square(a)\n",
    "B = 128.000 + 40 * X_square(b)\n",
    "print(round(A,3))\n",
    "print(round(B,3))"
   ]
  },
  {
   "cell_type": "markdown",
   "metadata": {},
   "source": [
    "# Normal Distribution I"
   ]
  },
  {
   "cell_type": "code",
   "execution_count": 80,
   "metadata": {},
   "outputs": [],
   "source": [
    "mean = 20\n",
    "std= 2"
   ]
  },
  {
   "cell_type": "code",
   "execution_count": 102,
   "metadata": {},
   "outputs": [],
   "source": [
    "# from definition\n",
    "import math\n",
    "\n",
    "def norm_cdf(mean,std,x):\n",
    "    return 0.5 *(1+math.erf((x-mean)/(std*2**0.5)))"
   ]
  },
  {
   "cell_type": "code",
   "execution_count": 106,
   "metadata": {},
   "outputs": [],
   "source": [
    "a = 19.5\n",
    "b = 20\n",
    "c = 22"
   ]
  },
  {
   "cell_type": "code",
   "execution_count": 108,
   "metadata": {},
   "outputs": [
    {
     "name": "stdout",
     "output_type": "stream",
     "text": [
      "0.401\n",
      "0.341\n"
     ]
    }
   ],
   "source": [
    "p1 = norm_cdf(mean,std,a)\n",
    "p2 = norm_cdf(mean,std, c) - norm_cdf(mean, std,b)\n",
    "print(round(p1,3))\n",
    "print(round(p2,3))"
   ]
  },
  {
   "cell_type": "code",
   "execution_count": 93,
   "metadata": {},
   "outputs": [],
   "source": [
    "# from package in python\n",
    "import scipy.stats as st\n",
    "mean, std = 20, 2\n",
    "p1=st.norm.cdf(19.5, mean, std)\n",
    "p2=st.norm.cdf(22,mean, std)-st.norm.cdf(20, mean, std)"
   ]
  },
  {
   "cell_type": "code",
   "execution_count": 94,
   "metadata": {},
   "outputs": [
    {
     "data": {
      "text/plain": [
       "0.4012936743170763"
      ]
     },
     "execution_count": 94,
     "metadata": {},
     "output_type": "execute_result"
    }
   ],
   "source": [
    "p1"
   ]
  },
  {
   "cell_type": "code",
   "execution_count": 95,
   "metadata": {},
   "outputs": [
    {
     "data": {
      "text/plain": [
       "0.3413447460685429"
      ]
     },
     "execution_count": 95,
     "metadata": {},
     "output_type": "execute_result"
    }
   ],
   "source": [
    "p2"
   ]
  },
  {
   "cell_type": "code",
   "execution_count": 96,
   "metadata": {},
   "outputs": [
    {
     "name": "stdout",
     "output_type": "stream",
     "text": [
      "0.401\n",
      "0.341\n"
     ]
    }
   ],
   "source": [
    "from scipy.stats import norm\n",
    "mean, std = 20, 2\n",
    "norm_dist = norm(mean, std)\n",
    "print(round(norm_dist.cdf(19.5), 3))\n",
    "print(round((norm_dist.cdf(22) - norm_dist.cdf(20)), 3))"
   ]
  },
  {
   "cell_type": "markdown",
   "metadata": {},
   "source": [
    "# Normal Distribution II"
   ]
  },
  {
   "cell_type": "code",
   "execution_count": 114,
   "metadata": {},
   "outputs": [],
   "source": [
    "mean, std = 70,10\n",
    "a = 80\n",
    "b = 60"
   ]
  },
  {
   "cell_type": "code",
   "execution_count": 115,
   "metadata": {},
   "outputs": [
    {
     "name": "stdout",
     "output_type": "stream",
     "text": [
      "0.159\n",
      "0.841\n",
      "0.159\n"
     ]
    }
   ],
   "source": [
    "p1 = norm_cdf(mean,std,a)\n",
    "p2 = norm_cdf(mean,std,b)\n",
    "print(round(1-p1,3))\n",
    "print(round(1-p2,3))\n",
    "print(round(p2,3))"
   ]
  },
  {
   "cell_type": "code",
   "execution_count": null,
   "metadata": {},
   "outputs": [],
   "source": []
  }
 ],
 "metadata": {
  "kernelspec": {
   "display_name": "Python 3",
   "language": "python",
   "name": "python3"
  },
  "language_info": {
   "codemirror_mode": {
    "name": "ipython",
    "version": 3
   },
   "file_extension": ".py",
   "mimetype": "text/x-python",
   "name": "python",
   "nbconvert_exporter": "python",
   "pygments_lexer": "ipython3",
   "version": "3.7.3"
  },
  "toc": {
   "base_numbering": 1,
   "nav_menu": {},
   "number_sections": true,
   "sideBar": true,
   "skip_h1_title": false,
   "title_cell": "Table of Contents",
   "title_sidebar": "Contents",
   "toc_cell": false,
   "toc_position": {},
   "toc_section_display": true,
   "toc_window_display": false
  }
 },
 "nbformat": 4,
 "nbformat_minor": 2
}
