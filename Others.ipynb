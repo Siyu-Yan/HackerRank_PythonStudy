{
 "cells": [
  {
   "cell_type": "markdown",
   "metadata": {},
   "source": [
    "# XML\n",
    "##  len(x.attrib)"
   ]
  },
  {
   "cell_type": "code",
   "execution_count": 1,
   "metadata": {},
   "outputs": [
    {
     "name": "stdout",
     "output_type": "stream",
     "text": [
      "2\n"
     ]
    }
   ],
   "source": [
    "dicti = {'0': 'This is zero', '1': 'This is one'}\n",
    "print (len(dicti))"
   ]
  },
  {
   "cell_type": "code",
   "execution_count": 35,
   "metadata": {},
   "outputs": [],
   "source": [
    "xml = '''  \n",
    "<feed xml:lang='en'>\n",
    "  <title>HackerRank</title>\n",
    "  <subtitle lang='en'>Programming challenges</subtitle>\n",
    "  <link rel='alternate' type='text/html' href='http://hackerrank.com/'/>\n",
    "  <updated>2013-12-25T12:00:00</updated>\n",
    "  <entry>\n",
    "  \t<author gender='male'>Harsh</author>\n",
    "    <question type='hard'>XML 1</question>\n",
    "    <description type='text'>This is related to XML parsing</description>\n",
    "  </entry>\n",
    "</feed>'''"
   ]
  },
  {
   "cell_type": "code",
   "execution_count": 36,
   "metadata": {},
   "outputs": [],
   "source": [
    "# In order to parse and generate an XML element tree, use the following code:\n",
    "import xml.etree.ElementTree as etree\n",
    "tree = etree.ElementTree(etree.fromstring(xml))"
   ]
  },
  {
   "cell_type": "code",
   "execution_count": 37,
   "metadata": {},
   "outputs": [
    {
     "data": {
      "text/plain": [
       "<xml.etree.ElementTree.ElementTree at 0x18e9c90aef0>"
      ]
     },
     "execution_count": 37,
     "metadata": {},
     "output_type": "execute_result"
    }
   ],
   "source": [
    "tree"
   ]
  },
  {
   "cell_type": "code",
   "execution_count": 38,
   "metadata": {},
   "outputs": [
    {
     "data": {
      "text/plain": [
       "<Element 'feed' at 0x0000018E9CA29138>"
      ]
     },
     "execution_count": 38,
     "metadata": {},
     "output_type": "execute_result"
    }
   ],
   "source": [
    "root = tree.getroot()\n",
    "root"
   ]
  },
  {
   "cell_type": "code",
   "execution_count": 47,
   "metadata": {},
   "outputs": [],
   "source": [
    "import xml.etree.ElementTree as etree\n",
    "\n",
    "def get_attr_number(node):\n",
    "    num = 0\n",
    "    for x in node:\n",
    "        print(x, x.attrib, end = '-----')\n",
    "        num += len(x.attrib)\n",
    "        for y in x:\n",
    "            num += len(y.attrib)\n",
    "            print(y)\n",
    "        print(num, end = '\\n')\n",
    "    return(num + len(node.attrib))"
   ]
  },
  {
   "cell_type": "code",
   "execution_count": 48,
   "metadata": {},
   "outputs": [
    {
     "name": "stdout",
     "output_type": "stream",
     "text": [
      "<Element 'title' at 0x0000018E9CA29458> {}-----0\n",
      "<Element 'subtitle' at 0x0000018E9CA294A8> {'lang': 'en'}-----1\n",
      "<Element 'link' at 0x0000018E9CA294F8> {'rel': 'alternate', 'type': 'text/html', 'href': 'http://hackerrank.com/'}-----4\n",
      "<Element 'updated' at 0x0000018E9CA29548> {}-----4\n",
      "<Element 'entry' at 0x0000018E9CA29598> {}-----<Element 'author' at 0x0000018E9CA295E8>\n",
      "<Element 'question' at 0x0000018E9CA29638>\n",
      "<Element 'description' at 0x0000018E9CA29688>\n",
      "7\n",
      "8\n"
     ]
    }
   ],
   "source": [
    "print(get_attr_number(root))"
   ]
  },
  {
   "cell_type": "code",
   "execution_count": 60,
   "metadata": {},
   "outputs": [
    {
     "name": "stdout",
     "output_type": "stream",
     "text": [
      "<Element 'feed' at 0x0000018E9CA29138> 1 [<Element 'title' at 0x0000018E9CA29458>, <Element 'subtitle' at 0x0000018E9CA294A8>, <Element 'link' at 0x0000018E9CA294F8>, <Element 'updated' at 0x0000018E9CA29548>, <Element 'entry' at 0x0000018E9CA29598>]\n",
      "<Element 'title' at 0x0000018E9CA29458> 0 []\n",
      "<Element 'subtitle' at 0x0000018E9CA294A8> 1 []\n",
      "<Element 'link' at 0x0000018E9CA294F8> 3 []\n",
      "<Element 'updated' at 0x0000018E9CA29548> 0 []\n",
      "<Element 'entry' at 0x0000018E9CA29598> 0 [<Element 'author' at 0x0000018E9CA295E8>, <Element 'question' at 0x0000018E9CA29638>, <Element 'description' at 0x0000018E9CA29688>]\n",
      "<Element 'author' at 0x0000018E9CA295E8> 1 []\n",
      "<Element 'question' at 0x0000018E9CA29638> 1 []\n",
      "<Element 'description' at 0x0000018E9CA29688> 1 []\n",
      "8\n"
     ]
    }
   ],
   "source": [
    "def traverse(node):\n",
    "    print(node, len(node.attrib), [child for child in node])\n",
    "    return len(node.attrib) + sum(traverse(child) for child in node)\n",
    "\n",
    "print(traverse(tree.getroot()))"
   ]
  },
  {
   "cell_type": "code",
   "execution_count": 53,
   "metadata": {},
   "outputs": [
    {
     "data": {
      "text/plain": [
       "<Element 'feed' at 0x0000018E9CA29138>"
      ]
     },
     "execution_count": 53,
     "metadata": {},
     "output_type": "execute_result"
    }
   ],
   "source": [
    "tree.getroot()"
   ]
  },
  {
   "cell_type": "markdown",
   "metadata": {},
   "source": [
    "## Find the Maximum Depth"
   ]
  },
  {
   "cell_type": "code",
   "execution_count": 79,
   "metadata": {},
   "outputs": [],
   "source": [
    "maxdepth = 0\n",
    "def depth(elem, level):\n",
    "    global maxdepth\n",
    "    \n",
    "    if (level == maxdepth):\n",
    "        maxdepth += 1\n",
    "    print(elem, level,maxdepth, end = '-----')\n",
    "    for child in elem:\n",
    "        depth(child, level + 1)\n",
    "        print(child, level, end = '\\n')"
   ]
  },
  {
   "cell_type": "code",
   "execution_count": 80,
   "metadata": {},
   "outputs": [
    {
     "name": "stdout",
     "output_type": "stream",
     "text": [
      "<Element 'feed' at 0x0000018E9CA29138> -1 0-----<Element 'title' at 0x0000018E9CA29458> 0 1-----<Element 'title' at 0x0000018E9CA29458> -1\n",
      "<Element 'subtitle' at 0x0000018E9CA294A8> 0 1-----<Element 'subtitle' at 0x0000018E9CA294A8> -1\n",
      "<Element 'link' at 0x0000018E9CA294F8> 0 1-----<Element 'link' at 0x0000018E9CA294F8> -1\n",
      "<Element 'updated' at 0x0000018E9CA29548> 0 1-----<Element 'updated' at 0x0000018E9CA29548> -1\n",
      "<Element 'entry' at 0x0000018E9CA29598> 0 1-----<Element 'author' at 0x0000018E9CA295E8> 1 2-----<Element 'author' at 0x0000018E9CA295E8> 0\n",
      "<Element 'question' at 0x0000018E9CA29638> 1 2-----<Element 'question' at 0x0000018E9CA29638> 0\n",
      "<Element 'description' at 0x0000018E9CA29688> 1 2-----<Element 'description' at 0x0000018E9CA29688> 0\n",
      "<Element 'entry' at 0x0000018E9CA29598> -1\n"
     ]
    }
   ],
   "source": [
    "depth(tree.getroot(), -1)"
   ]
  },
  {
   "cell_type": "code",
   "execution_count": 66,
   "metadata": {},
   "outputs": [
    {
     "name": "stdout",
     "output_type": "stream",
     "text": [
      "2\n"
     ]
    }
   ],
   "source": [
    "print(maxdepth)"
   ]
  }
 ],
 "metadata": {
  "kernelspec": {
   "display_name": "Python 3",
   "language": "python",
   "name": "python3"
  },
  "language_info": {
   "codemirror_mode": {
    "name": "ipython",
    "version": 3
   },
   "file_extension": ".py",
   "mimetype": "text/x-python",
   "name": "python",
   "nbconvert_exporter": "python",
   "pygments_lexer": "ipython3",
   "version": "3.7.3"
  }
 },
 "nbformat": 4,
 "nbformat_minor": 2
}
