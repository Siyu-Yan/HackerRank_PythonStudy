{
 "cells": [
  {
   "cell_type": "code",
   "execution_count": 57,
   "metadata": {},
   "outputs": [],
   "source": [
    "import numpy as np\n",
    "import pandas as pd"
   ]
  },
  {
   "cell_type": "markdown",
   "metadata": {},
   "source": [
    "# mean, median, mode"
   ]
  },
  {
   "cell_type": "code",
   "execution_count": 336,
   "metadata": {},
   "outputs": [],
   "source": [
    "input1 = '10'\n",
    "input2 = '64630 11735 14216 99233 14470 4978 4978 38120 51135 67060'"
   ]
  },
  {
   "cell_type": "code",
   "execution_count": 337,
   "metadata": {},
   "outputs": [],
   "source": [
    "n = int(input1)\n",
    "lst = input2"
   ]
  },
  {
   "cell_type": "code",
   "execution_count": 340,
   "metadata": {},
   "outputs": [
    {
     "data": {
      "text/plain": [
       "['64630',\n",
       " '11735',\n",
       " '14216',\n",
       " '99233',\n",
       " '14470',\n",
       " '4978',\n",
       " '4978',\n",
       " '38120',\n",
       " '51135',\n",
       " '67060']"
      ]
     },
     "execution_count": 340,
     "metadata": {},
     "output_type": "execute_result"
    }
   ],
   "source": [
    "lst.split()"
   ]
  },
  {
   "cell_type": "code",
   "execution_count": 341,
   "metadata": {},
   "outputs": [],
   "source": [
    "lst = list(map(int, lst.split()))"
   ]
  },
  {
   "cell_type": "code",
   "execution_count": 343,
   "metadata": {},
   "outputs": [],
   "source": [
    "lst.sort()"
   ]
  },
  {
   "cell_type": "code",
   "execution_count": 345,
   "metadata": {},
   "outputs": [],
   "source": [
    "y = dict((i, lst.count(i)) for i in set(lst))"
   ]
  },
  {
   "cell_type": "code",
   "execution_count": 346,
   "metadata": {},
   "outputs": [
    {
     "data": {
      "text/plain": [
       "{99233: 1,\n",
       " 14470: 1,\n",
       " 14216: 1,\n",
       " 38120: 1,\n",
       " 4978: 2,\n",
       " 67060: 1,\n",
       " 64630: 1,\n",
       " 11735: 1,\n",
       " 51135: 1}"
      ]
     },
     "execution_count": 346,
     "metadata": {},
     "output_type": "execute_result"
    }
   ],
   "source": [
    "y"
   ]
  },
  {
   "cell_type": "code",
   "execution_count": 347,
   "metadata": {},
   "outputs": [
    {
     "data": {
      "text/plain": [
       "[99233, 67060, 64630, 51135, 38120, 14470, 14216, 11735, 4978]"
      ]
     },
     "execution_count": 347,
     "metadata": {},
     "output_type": "execute_result"
    }
   ],
   "source": [
    "sorted(y,reverse=True)"
   ]
  },
  {
   "cell_type": "code",
   "execution_count": 348,
   "metadata": {},
   "outputs": [],
   "source": [
    "y = sorted(y.items(), key = lambda x :( -x[-1], x[0]))"
   ]
  },
  {
   "cell_type": "code",
   "execution_count": 349,
   "metadata": {},
   "outputs": [
    {
     "data": {
      "text/plain": [
       "[(4978, 2),\n",
       " (11735, 1),\n",
       " (14216, 1),\n",
       " (14470, 1),\n",
       " (38120, 1),\n",
       " (51135, 1),\n",
       " (64630, 1),\n",
       " (67060, 1),\n",
       " (99233, 1)]"
      ]
     },
     "execution_count": 349,
     "metadata": {},
     "output_type": "execute_result"
    }
   ],
   "source": [
    "y"
   ]
  },
  {
   "cell_type": "code",
   "execution_count": 350,
   "metadata": {},
   "outputs": [
    {
     "data": {
      "text/plain": [
       "(4978, 2)"
      ]
     },
     "execution_count": 350,
     "metadata": {},
     "output_type": "execute_result"
    }
   ],
   "source": [
    "y[0]"
   ]
  },
  {
   "cell_type": "code",
   "execution_count": 351,
   "metadata": {},
   "outputs": [
    {
     "data": {
      "text/plain": [
       "4978"
      ]
     },
     "execution_count": 351,
     "metadata": {},
     "output_type": "execute_result"
    }
   ],
   "source": [
    "next(iter(y)) [0]"
   ]
  },
  {
   "cell_type": "markdown",
   "metadata": {},
   "source": [
    "## without sort and improve running time"
   ]
  },
  {
   "cell_type": "code",
   "execution_count": 352,
   "metadata": {},
   "outputs": [],
   "source": [
    "def mean_f(x):\n",
    "    total = 0\n",
    "    y = dict((i, lst.count(i)) for i in set(x))\n",
    "    for k, v in y.items():\n",
    "        total = total + k*v\n",
    "    return total/n\n",
    "\n",
    "def median_f(x):\n",
    "    n = len(x)\n",
    "    x = sorted(x)\n",
    "    if n %2 == 0:\n",
    "        a = x[int(n/2)]\n",
    "        b = x[int(n/2)-1]\n",
    "        return (a + b) /2\n",
    "    else:\n",
    "        return x[int((n+1)/2)]\n",
    "    \n",
    "def mode_f(x):\n",
    "    mode = 0\n",
    "    req = 0\n",
    "    y = dict((i, lst.count(i)) for i in set(x))\n",
    "    for i, val in y.items():\n",
    "        if val > req:\n",
    "            mode = i\n",
    "            req = val\n",
    "        elif val == req and i < mode:\n",
    "            mode = i\n",
    "    return mode"
   ]
  },
  {
   "cell_type": "code",
   "execution_count": 353,
   "metadata": {},
   "outputs": [
    {
     "name": "stdout",
     "output_type": "stream",
     "text": [
      "37055.5\n",
      "26295.0\n",
      "4978\n"
     ]
    }
   ],
   "source": [
    "print(round(mean_f(lst),1))\n",
    "print(round(median_f(lst),1))\n",
    "print(round(mode_f(lst),1))"
   ]
  },
  {
   "cell_type": "markdown",
   "metadata": {},
   "source": [
    "## using sort"
   ]
  },
  {
   "cell_type": "code",
   "execution_count": 354,
   "metadata": {},
   "outputs": [],
   "source": [
    "def mean_f(x):\n",
    "    return sum(x)/len(x)\n",
    "\n",
    "def median_f(x):\n",
    "    n = len(x)\n",
    "    x = sorted(x)\n",
    "    if n %2 == 0:\n",
    "        a = x[int(n/2)]\n",
    "        b = x[int(n/2)-1]\n",
    "        return (a + b) /2\n",
    "    else:\n",
    "        return x[int((n+1)/2)]\n",
    "    \n",
    "def mode_f(x):\n",
    "    y = dict((i,x.count(i)) for i in x)\n",
    "    y_st = sorted(y.items(), key = lambda x : (-x[-1], x[0]))\n",
    "    return y_st[0][0]"
   ]
  },
  {
   "cell_type": "code",
   "execution_count": 355,
   "metadata": {},
   "outputs": [
    {
     "name": "stdout",
     "output_type": "stream",
     "text": [
      "37055.5\n",
      "26295.0\n",
      "4978\n"
     ]
    }
   ],
   "source": [
    "print(round(mean_f(lst),1))\n",
    "print(round(median_f(lst),1))\n",
    "print(round(mode_f(lst),1))"
   ]
  },
  {
   "cell_type": "markdown",
   "metadata": {},
   "source": [
    "## using packages in statistics"
   ]
  },
  {
   "cell_type": "code",
   "execution_count": 356,
   "metadata": {},
   "outputs": [],
   "source": [
    "import statistics as stats"
   ]
  },
  {
   "cell_type": "code",
   "execution_count": 357,
   "metadata": {},
   "outputs": [
    {
     "data": {
      "text/plain": [
       "37055.5"
      ]
     },
     "execution_count": 357,
     "metadata": {},
     "output_type": "execute_result"
    }
   ],
   "source": [
    "stats.mean(lst)"
   ]
  },
  {
   "cell_type": "code",
   "execution_count": 358,
   "metadata": {},
   "outputs": [
    {
     "data": {
      "text/plain": [
       "26295.0"
      ]
     },
     "execution_count": 358,
     "metadata": {},
     "output_type": "execute_result"
    }
   ],
   "source": [
    "stats.median(lst)"
   ]
  },
  {
   "cell_type": "code",
   "execution_count": 359,
   "metadata": {},
   "outputs": [
    {
     "data": {
      "text/plain": [
       "4978"
      ]
     },
     "execution_count": 359,
     "metadata": {},
     "output_type": "execute_result"
    }
   ],
   "source": [
    "stats.mode(lst)"
   ]
  },
  {
   "cell_type": "code",
   "execution_count": 361,
   "metadata": {},
   "outputs": [
    {
     "name": "stdout",
     "output_type": "stream",
     "text": [
      "37055.5\n",
      "26295.0\n",
      "4978\n"
     ]
    }
   ],
   "source": [
    "print(round(stats.mean(lst),1))\n",
    "print(round(stats.median(lst),1))\n",
    "print(round(stats.mode(lst),1))"
   ]
  },
  {
   "cell_type": "code",
   "execution_count": 363,
   "metadata": {},
   "outputs": [
    {
     "name": "stdout",
     "output_type": "stream",
     "text": [
      "37055.5\n",
      "26295.0\n",
      "4978\n"
     ]
    }
   ],
   "source": [
    "print(round(stats.mean(lst),1))\n",
    "print(round(stats.median(lst),1))\n",
    "print(round(stats.mode(lst),1))"
   ]
  },
  {
   "cell_type": "markdown",
   "metadata": {},
   "source": [
    "## using numpy"
   ]
  },
  {
   "cell_type": "code",
   "execution_count": 366,
   "metadata": {},
   "outputs": [
    {
     "name": "stdout",
     "output_type": "stream",
     "text": [
      "37055.5\n",
      "26295.0\n",
      "4978\n"
     ]
    }
   ],
   "source": [
    "print(np.mean(lst))\n",
    "print(np.median(lst))\n",
    "print(int(stats.mode(lst)))"
   ]
  },
  {
   "cell_type": "code",
   "execution_count": 369,
   "metadata": {},
   "outputs": [
    {
     "data": {
      "text/plain": [
       "4978"
      ]
     },
     "execution_count": 369,
     "metadata": {},
     "output_type": "execute_result"
    }
   ],
   "source": [
    "stats.mode(lst)"
   ]
  },
  {
   "cell_type": "markdown",
   "metadata": {},
   "source": [
    "## using panda series"
   ]
  },
  {
   "cell_type": "code",
   "execution_count": 371,
   "metadata": {},
   "outputs": [],
   "source": [
    "lst_pd = pd.Series(lst)"
   ]
  },
  {
   "cell_type": "code",
   "execution_count": 372,
   "metadata": {},
   "outputs": [
    {
     "data": {
      "text/plain": [
       "0     4978\n",
       "1     4978\n",
       "2    11735\n",
       "3    14216\n",
       "4    14470\n",
       "5    38120\n",
       "6    51135\n",
       "7    64630\n",
       "8    67060\n",
       "9    99233\n",
       "dtype: int64"
      ]
     },
     "execution_count": 372,
     "metadata": {},
     "output_type": "execute_result"
    }
   ],
   "source": [
    "lst_pd"
   ]
  },
  {
   "cell_type": "code",
   "execution_count": 373,
   "metadata": {},
   "outputs": [
    {
     "data": {
      "text/plain": [
       "37055.5"
      ]
     },
     "execution_count": 373,
     "metadata": {},
     "output_type": "execute_result"
    }
   ],
   "source": [
    "lst_pd.mean()"
   ]
  },
  {
   "cell_type": "code",
   "execution_count": 374,
   "metadata": {},
   "outputs": [
    {
     "data": {
      "text/plain": [
       "26295.0"
      ]
     },
     "execution_count": 374,
     "metadata": {},
     "output_type": "execute_result"
    }
   ],
   "source": [
    "lst_pd.median()"
   ]
  },
  {
   "cell_type": "code",
   "execution_count": 376,
   "metadata": {},
   "outputs": [
    {
     "data": {
      "text/plain": [
       "4978"
      ]
     },
     "execution_count": 376,
     "metadata": {},
     "output_type": "execute_result"
    }
   ],
   "source": [
    "lst_pd.mode()[0]"
   ]
  },
  {
   "cell_type": "code",
   "execution_count": null,
   "metadata": {},
   "outputs": [],
   "source": []
  }
 ],
 "metadata": {
  "kernelspec": {
   "display_name": "Python 3",
   "language": "python",
   "name": "python3"
  },
  "language_info": {
   "codemirror_mode": {
    "name": "ipython",
    "version": 3
   },
   "file_extension": ".py",
   "mimetype": "text/x-python",
   "name": "python",
   "nbconvert_exporter": "python",
   "pygments_lexer": "ipython3",
   "version": "3.7.3"
  },
  "toc": {
   "base_numbering": 1,
   "nav_menu": {},
   "number_sections": true,
   "sideBar": true,
   "skip_h1_title": false,
   "title_cell": "Table of Contents",
   "title_sidebar": "Contents",
   "toc_cell": false,
   "toc_position": {},
   "toc_section_display": true,
   "toc_window_display": false
  }
 },
 "nbformat": 4,
 "nbformat_minor": 2
}
